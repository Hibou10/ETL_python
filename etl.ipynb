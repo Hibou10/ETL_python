{
 "cells": [
  {
   "cell_type": "code",
   "execution_count": null,
   "metadata": {},
   "outputs": [],
   "source": [
    "import requests\n",
    "import pandas as pd\n",
    "from sqlalchemy import create_engine"
   ]
  },
  {
   "cell_type": "markdown",
   "metadata": {},
   "source": [
    "# 1. Extract"
   ]
  },
  {
   "cell_type": "code",
   "execution_count": null,
   "metadata": {},
   "outputs": [],
   "source": [
    "\n",
    "def extract() -> dict:\n",
    "    \"\"\"This API extracts data from http://universities.hipolabs.com\"\"\"\n",
    "    API_URL = \"http://universities.hipolabs.com/search?country=United+States\"\n",
    "    data = requests.get(API_URL).json()\n",
    "    return data"
   ]
  },
  {
   "cell_type": "markdown",
   "metadata": {},
   "source": [
    "# 2. Transform\n"
   ]
  },
  {
   "cell_type": "code",
   "execution_count": null,
   "metadata": {},
   "outputs": [],
   "source": [
    "\n",
    "def transform(data: dict) -> pd.DataFrame:\n",
    "    \"\"\"Transforms the dataset into desired structure and filters\"\"\"\n",
    "\n",
    "# macht aus JSON-Daten eine Tabelle\n",
    "    df = pd.DataFrame(data)\n",
    "    print(f\"Total Number of universities from API: {len(data)}\")\n",
    "\n",
    "    df = df[df[\"name\"].str.contains(\"California\")]\n",
    "    print(f\"Number of universities in California: {len(df)}\")\n",
    "\n",
    "    # Spalte domains und web_pages von Liste in String umwandeln\n",
    "    df['domains'] = [','.join(map(str, l)) for l in df['domains']]\n",
    "    df['web_pages'] = [','.join(map(str, l)) for l in df['web_pages']]\n",
    "    df = df.reset_index(drop=True)\n",
    "\n",
    "    return df[[\"domains\", \"country\", \"web_pages\", \"name\"]]"
   ]
  },
  {
   "cell_type": "markdown",
   "metadata": {},
   "source": [
    "# 3. Load"
   ]
  },
  {
   "cell_type": "code",
   "execution_count": null,
   "metadata": {},
   "outputs": [],
   "source": [
    "# 3. Step: Load\n",
    "def load(df:pd.DataFrame)-> None:\n",
    "    \"\"\" Loads data into a sqllite database\"\"\"\n",
    "    disk_engine = create_engine('sqlite:///my_lite_store.db')\n",
    "    df.to_sql('cal_uni', disk_engine, if_exists='replace')"
   ]
  },
  {
   "cell_type": "code",
   "execution_count": null,
   "metadata": {},
   "outputs": [
    {
     "name": "stdout",
     "output_type": "stream",
     "text": [
      "Total Number of universities from API: 2348\n",
      "Number of universities in California: 45\n"
     ]
    }
   ],
   "source": [
    "data = extract()\n",
    "\n",
    "df = transform(data)\n",
    "\n",
    "load(df)"
   ]
  },
  {
   "cell_type": "code",
   "execution_count": null,
   "metadata": {},
   "outputs": [],
   "source": []
  }
 ],
 "metadata": {
  "kernelspec": {
   "display_name": "Python 3",
   "language": "python",
   "name": "python3"
  },
  "language_info": {
   "codemirror_mode": {
    "name": "ipython",
    "version": 3
   },
   "file_extension": ".py",
   "mimetype": "text/x-python",
   "name": "python",
   "nbconvert_exporter": "python",
   "pygments_lexer": "ipython3",
   "version": "3.13.3"
  }
 },
 "nbformat": 4,
 "nbformat_minor": 4
}
